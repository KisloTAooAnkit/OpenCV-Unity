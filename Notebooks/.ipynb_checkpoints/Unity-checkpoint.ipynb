{
 "cells": [
  {
   "cell_type": "code",
   "execution_count": null,
   "metadata": {},
   "outputs": [],
   "source": [
    "import cv2\n",
    "import numpy as np\n",
    "def nothing(x):\n",
    "    pass\n",
    "# Create a black image, a window\n",
    "kernel = np.zeros((300,512,3), np.uint8)\n",
    "name = 'Calibrate' \n",
    "cv2.namedWindow(name)\n",
    "# create trackbars for color change\n",
    "cv2.createTrackbar('Hue', name, 0, 255, nothing)\n",
    "cv2.createTrackbar('Sat', name, 0, 255, nothing)\n",
    "cv2.createTrackbar('Val', name, 0, 255, nothing)\n",
    "\n",
    "# create switch for ON/OFF functionality\n",
    "switch = '0 : OFF  \\n  1 : ON'\n",
    "cv2.createTrackbar(switch, name,0,1,nothing)\n",
    "\n",
    "while(1):\n",
    "    cv2.imshow(name,kernel)\n",
    "    k = cv2.waitKey(1) & 0xFF\n",
    "    if k == 27:\n",
    "        break\n",
    "\n",
    "   # get current positions of four trackbars\n",
    "    hue = cv2.getTrackbarPos('Hue', name)\n",
    "    sat = cv2.getTrackbarPos('Sat', name)\n",
    "    val = cv2.getTrackbarPos('Val', name)\n",
    "    s = cv2.getTrackbarPos(switch,name)\n",
    "    \n",
    "    if s == 0:\n",
    "        kernel[:] = 0\n",
    "    else:\n",
    "        kernel[:] = [hue,sat,val]\n",
    "\n",
    "cv2.destroyAllWindows()"
   ]
  },
  {
   "cell_type": "code",
   "execution_count": null,
   "metadata": {},
   "outputs": [],
   "source": []
  }
 ],
 "metadata": {
  "kernelspec": {
   "display_name": "Python 3",
   "language": "python",
   "name": "python3"
  },
  "language_info": {
   "codemirror_mode": {
    "name": "ipython",
    "version": 3
   },
   "file_extension": ".py",
   "mimetype": "text/x-python",
   "name": "python",
   "nbconvert_exporter": "python",
   "pygments_lexer": "ipython3",
   "version": "3.7.1"
  }
 },
 "nbformat": 4,
 "nbformat_minor": 2
}
